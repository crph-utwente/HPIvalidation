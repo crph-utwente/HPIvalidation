{
 "cells": [
  {
   "cell_type": "markdown",
   "metadata": {
    "vscode": {
     "languageId": "raw"
    }
   },
   "source": [
    "```\n",
    "Input parameters\n",
    "----------------\n",
    "file : str\n",
    "    Filepath of the Excel file containing MAP and HPI data\\n",
    "identifier : str\n",
    "    An unique identifier for the data loaded in file (for example a patient ID)\n",
    "surgery_start_time : datetime.datetime\n",
    "    A datetime object indicatie the start of surgery of the data loaded in file\n",
    "surgery_end_time : datetime.datetime\n",
    "    A datetime object indicatie the end of surgery \n",
    "\n",
    "Output data\n",
    "-----------\n",
    "result_df : pandas.DataFrame\n",
    "    A DataFrame containing the metrics of this analysis\n",
    "result_vector_df : pandas.DataFrame\n",
    "    A DataFrame containing vectorized data of different blood pressure metrics and prediction windows\n",
    "```"
   ]
  },
  {
   "cell_type": "markdown",
   "metadata": {},
   "source": [
    "1. Import packages/modules"
   ]
  },
  {
   "cell_type": "code",
   "execution_count": 1,
   "metadata": {},
   "outputs": [],
   "source": [
    "import pandas as pd\n",
    "import numpy as np\n",
    "import os\n",
    "from datetime import datetime\n",
    "from sklearn.metrics import roc_curve, auc, precision_recall_curve, average_precision_score"
   ]
  },
  {
   "cell_type": "markdown",
   "metadata": {},
   "source": [
    "2. Load data\n",
    "- Load individual patient data\n",
    "- Load surgery timepoints\n",
    "- Create patient ID"
   ]
  },
  {
   "cell_type": "code",
   "execution_count": 10,
   "metadata": {},
   "outputs": [],
   "source": [
    "file = 'input_data/example_patient.xls'\n",
    "identifier = 'example'\n",
    "surgery_start_time      = datetime.strptime('01-01-2024 08:56:00', '%d-%m-%Y %H:%M:%S') # fill in surgery start time\n",
    "surgery_end_time        = datetime.strptime('01-01-2024 16:15:00', '%d-%m-%Y %H:%M:%S') # fill in surgery end time\n",
    "# Load raw data from excel file\n",
    "\n",
    "columns = pd.read_excel(file).columns\n",
    "if 'Date' in columns:\n",
    "    raw = pd.read_excel(file, skiprows=[1])\n",
    "    raw['Time'] = pd.to_datetime(raw['Time'], format='%H:%M:%S')\n",
    "    raw['datetime'] = pd.to_datetime(raw['Date'].dt.date.astype(str) + ' ' + raw['Time'].dt.time.astype(str))\n",
    "elif 'Datum' in columns:\n",
    "    datetime_format = '%d.%m.%Y %H:%M:%S'\n",
    "    parse_dates = {'datetime' : ['Datum','Time']}\n",
    "    raw = pd.read_excel(file, parse_dates = parse_dates, date_format=datetime_format, skiprows=[1])\n",
    "\n",
    "# make result dictionary\n",
    "result = {}\n",
    "result_vector = {}\n",
    "result['Patient ID'] = identifier\n",
    "surgery_duration = surgery_end_time - surgery_start_time\n",
    "result['Surgery duration (minutes)'] = surgery_duration.total_seconds() / 60"
   ]
  },
  {
   "cell_type": "markdown",
   "metadata": {},
   "source": [
    "3. Prepare the data\n",
    "- Rename columns\n",
    "- Select only data during surgery \n",
    "- Remove missing data from either HPI or MAP (at beginning and end of surgery)"
   ]
  },
  {
   "cell_type": "code",
   "execution_count": 11,
   "metadata": {},
   "outputs": [],
   "source": [
    "data = pd.DataFrame(data=raw, columns=['datetime', 'MAP (mmHg)', 'HPI(-)'])\n",
    "data.columns = ['Time', 'MAP', 'HPI']\n",
    "\n",
    "# Crop dataframe to duration surgery\n",
    "data = data[(data['Time'] > surgery_start_time) & (data['Time'] < surgery_end_time)].reset_index(drop=True) \n",
    "\n",
    "# Crop dataframe, when missing/invalid data from either HPI or MAP (at beginning or end)\n",
    "data = data[data['HPI'] != -1].reset_index(drop=True)\n",
    "data = data.loc[data['MAP'].first_valid_index():data['MAP'].last_valid_index()]\n",
    "data = data.loc[data['HPI'].first_valid_index():data['HPI'].last_valid_index()]\n",
    "\n",
    "# Reset index to make window detection work\n",
    "data = data.reset_index(drop=True)"
   ]
  },
  {
   "cell_type": "markdown",
   "metadata": {},
   "source": [
    "4. Clean data\n",
    "- Remove artifacts (resulting from drop of pressure transducer and sampling of the arterial line)\n",
    "- Linear interpolate NaN values\n",
    "- Round values"
   ]
  },
  {
   "cell_type": "code",
   "execution_count": 12,
   "metadata": {},
   "outputs": [],
   "source": [
    "# Create clean data columns\n",
    "data['MAP_clean'] = data['MAP'].astype(np.float64)\n",
    "data['HPI_clean'] = data['HPI'].astype(np.float64)\n",
    "\n",
    "# Remove HPI & MAP values with a sudden MAP drop of 30mmHg compared to its surrounding values\n",
    "mask = (data['MAP_clean'].diff() <= 30 * -1) & (data['MAP_clean'].diff().shift(-1) >= 30)\n",
    "data.loc[mask, 'MAP_clean'] = np.nan\n",
    "data.loc[mask, 'HPI_clean'] = np.nan\n",
    "\n",
    "# Lineairly interpolate NaN values\n",
    "data['MAP_clean'] = data['MAP_clean'].interpolate(method='linear')\n",
    "data['HPI_clean'] = data['HPI_clean'].interpolate(method='linear')\n",
    "\n",
    "# Round interpolated values\n",
    "data['MAP_clean'] = data['MAP_clean'].round()\n",
    "data['HPI_clean'] = data['HPI_clean'].round()"
   ]
  },
  {
   "cell_type": "markdown",
   "metadata": {},
   "source": [
    "5. Calculate correlation \n",
    "- normalized cross-correlation between HPI and MAP signal\n",
    "- time delay between HPI and MAP signal"
   ]
  },
  {
   "cell_type": "code",
   "execution_count": 13,
   "metadata": {},
   "outputs": [],
   "source": [
    "# Normalize signals HPI & MAP\n",
    "norm_HPI = (data['HPI_clean'] - np.mean(data['HPI_clean'])) / np.std(data['HPI_clean'])\n",
    "norm_MAP = (data['MAP_clean'] - np.mean(data['MAP_clean'])) / np.std(data['MAP_clean'])\n",
    "\n",
    "# Calculate the cross-correlation\n",
    "cross_corr = np.correlate(norm_HPI, norm_MAP, mode='full')\n",
    "lags = np.arange(-len(norm_HPI) + 1, len(norm_HPI))\n",
    "\n",
    "# Normalize the cross-correlation\n",
    "norm_factor = np.sqrt(np.sum(np.square(norm_HPI)) * np.sum(np.square(norm_MAP)))\n",
    "xcorr_norm = cross_corr / norm_factor\n",
    "\n",
    "# Find the index and value of the absolute maximum correlation\n",
    "max_corr_index = np.argmax(np.abs(xcorr_norm))\n",
    "max_corr_value = xcorr_norm[max_corr_index]\n",
    "corresponding_lag = lags[max_corr_index]\n",
    "\n",
    "result['Cross correlation HPI & MAP'] = max_corr_value\n",
    "result['Time delay HPI & MAP'] = corresponding_lag"
   ]
  },
  {
   "cell_type": "markdown",
   "metadata": {},
   "source": [
    "6. Define events\n",
    "- Set hypotension state ( MAP < 65 during three consecutive rows is considered hypotension)\n",
    "- Set the HPI alarm state ( HPI > 85 during three consecutive rows is considered an alarm)\n",
    "- Set the MAP alarm state ( MAP < 72 during three consecutive rows is considered an alarm)"
   ]
  },
  {
   "cell_type": "code",
   "execution_count": 14,
   "metadata": {},
   "outputs": [],
   "source": [
    "# Initialize the columns with zeros\n",
    "data['IOH'] = 0\n",
    "data['HPI_alarm'] = 0\n",
    "data['MAP_alarm'] = 0\n",
    "\n",
    "# Check if MAP is <65 for three consecutive rows (and set IOH=1)\n",
    "# Loop through the DataFrame to manually check for sequences of three consecutive values below 65\n",
    "for i in range(len(data) - 2):\n",
    "    # Check if the current value and the next two are below 65\n",
    "    if data.loc[i, 'MAP_clean'] < 65 and data.loc[i + 1, 'MAP_clean'] < 65 and data.loc[i + 2, 'MAP_clean'] < 65:\n",
    "        # Mark the current position and the next two positions\n",
    "        data.loc[i, 'IOH']        = 1\n",
    "        data.loc[i + 1, 'IOH']    = 1\n",
    "        data.loc[i + 2, 'IOH']    = 1\n",
    "\n",
    "# Check if HPI is >85 for three consecutive rows (and set HPI_alarm=1)\n",
    "# Loop through the DataFrame to manually check for sequences of three consecutive values above 85\n",
    "for i in range(len(data) - 2):\n",
    "    # Check if the current value and the next two are is above 85\n",
    "    if data.loc[i, 'HPI'] > 85 and data.loc[i + 1, 'HPI'] > 85 and data.loc[i + 2, 'HPI'] > 85:\n",
    "        # Mark the current position and the next two positions\n",
    "        data.loc[i, 'HPI_alarm']        = 1\n",
    "        data.loc[i + 1, 'HPI_alarm']    = 1\n",
    "        data.loc[i + 2, 'HPI_alarm']    = 1\n",
    "\n",
    "# Check if MAP < 72 for three consecutive rows (and set MAP_alarm=1)\n",
    "# Loop through the DataFrame to manually check for sequences of three consecutive values below 72\n",
    "for i in range(len(data) - 2):\n",
    "    # Check if the current value and the next two are is above 85\n",
    "    if data.loc[i, 'MAP_clean'] < 72 and data.loc[i + 1, 'MAP_clean'] < 72 and data.loc[i + 2, 'MAP_clean'] < 72:\n",
    "        # Mark the current position and the next two positions\n",
    "        data.loc[i, 'MAP_alarm']        = 1\n",
    "        data.loc[i + 1, 'MAP_alarm']    = 1\n",
    "        data.loc[i + 2, 'MAP_alarm']    = 1"
   ]
  },
  {
   "cell_type": "markdown",
   "metadata": {},
   "source": [
    "7. Calculate event metrics\n",
    "- Hypotension metrics: number of samples where hypotension is present, duration of hypotension in minutes and in percentage of surgery, number of hypotensive episodes, area under threshold (AUT) and time-weighted average (AUT divided by the length of surgery)\n",
    "- HPI alarm metrics: calculated with definition HPI > 85 for at least 1 minute, number of samples where HPI alarm is present, duration of HPI alarms in minutes and in percentage of surgery, number of HPI alarms"
   ]
  },
  {
   "cell_type": "code",
   "execution_count": 15,
   "metadata": {},
   "outputs": [],
   "source": [
    "# Calculate hypotension metrics\n",
    "minutes_data = len(data)/3\n",
    "hypo_samples = sum(data['IOH'])\n",
    "hypotension = data['IOH'].eq(1)\n",
    "hypo_events = (hypotension&~hypotension.shift(fill_value=False)).cumsum()\n",
    "\n",
    "# Calculate the area under the threshold (65mmHg) using the composite trapezoidal rule for every individual episode of hypotension\n",
    "aut_vector = data.groupby(hypo_events).apply(lambda x: np.trapz(-x.loc[x['IOH'].eq(1), 'MAP_clean']+65, dx=1/3))\n",
    "\n",
    "result['Hypotension samples'] = hypo_samples\n",
    "result['Hypotension present'] = hypo_samples > 0\n",
    "result['Hypotension duration (minutes)'] = hypo_samples/3\n",
    "result['Hypotension duration (%)'] = hypo_samples/len(data)*100\n",
    "result['Number of hypotensive events'] = max(hypo_events)\n",
    "result['Hypotension AUT'] = aut_vector.sum()\n",
    "result['Hypotension TWA'] = aut_vector.sum()/minutes_data\n",
    "\n",
    "# Calculate HPI alarm metrics (when alarm for at least 1 minute)\n",
    "hpi_samples = sum(data['HPI_alarm'])\n",
    "alarming_hpi = data['HPI_alarm'].eq(1)\n",
    "hpi_alarms = (alarming_hpi&~alarming_hpi.shift(fill_value=False)).cumsum()\n",
    "\n",
    "result['HPI samples'] = hpi_samples\n",
    "result['HPI alarm present'] = hpi_samples > 0\n",
    "result['HPI alarm duration (minutes)'] = hpi_samples/3\n",
    "result['HPI alarm duration (%)'] = hpi_samples/len(data)*100\n",
    "result['Number of HPI alarms'] = max(hpi_alarms)\n",
    "\n",
    "# Calculate MAP alarm metrics (when alarm for at least 1 minute)\n",
    "map_samples = sum(data['MAP_alarm'])\n",
    "alarming_map = data['MAP_alarm'].eq(1)\n",
    "map_alarms = (alarming_map&~alarming_map.shift(fill_value=False)).cumsum()\n",
    "\n",
    "result['MAP alarm samples'] = map_samples\n",
    "result['MAP alarm present'] = map_samples > 0\n",
    "result['MAP alarm duration (minutes)'] = map_samples/3\n",
    "result['MAP alarm duration (%)'] = map_samples/len(data)*100\n",
    "result['Number of MAP alarms'] = max(map_alarms)"
   ]
  },
  {
   "cell_type": "markdown",
   "metadata": {},
   "source": [
    "8. Backward analysis \n",
    "- Delta MAP: difference current MAP with MAP 5 minutes ago\n",
    "- Linairly extrapolated MAP: prediction based on current and MAP 5 min ago, assuming linear trend between them\n",
    "- True hypotension prediction within 1-5, 1-10 and 1-15 minutes, so whether hypotesion actually occurs within these time windows\n",
    "\n",
    "The export of this backward analysis can be used to create receiver operating characteric (ROC) and precision-recall curves and calculate sensitivity, sensitivity etc at specific thresholds"
   ]
  },
  {
   "cell_type": "code",
   "execution_count": 16,
   "metadata": {},
   "outputs": [],
   "source": [
    "    # Create empty colums\n",
    "    data['deltaMAP'] = np.nan\n",
    "    data['lepMAP'] = np.nan\n",
    "    data['5min_prediction'] = 0\n",
    "    data['10min_prediction'] = 0\n",
    "    data['15min_prediction'] = 0\n",
    "\n",
    "    # Calculate delta MAP and lineairly extrapolated MAP at 5 minutes\n",
    "    data['deltaMAP'] = data['MAP_clean'] - data['MAP_clean'].shift(15)\n",
    "    data['lepMAP'] = data['MAP_clean'] + data['deltaMAP']\n",
    "\n",
    "    # Create true hypotension prediction with window 1-5 min\n",
    "    mask = data['IOH'].rolling(window=13, min_periods=3).sum().gt(0).shift(-15).fillna(False)\n",
    "    data.loc[mask, '5min_prediction'] = 1\n",
    "\n",
    "    # Create true hypotension prediction with window 1-10 min\n",
    "    mask = data['IOH'].rolling(window=28, min_periods=3).sum().gt(0).shift(-30).fillna(False)\n",
    "    data.loc[mask, '10min_prediction'] = 1\n",
    "\n",
    "    # Create true hypotension prediction with window 1-15 min\n",
    "    mask = data['IOH'].rolling(window=43, min_periods=3).sum().gt(0).shift(-45).fillna(False)\n",
    "    data.loc[mask, '15min_prediction'] = 1\n",
    "\n",
    "    backward_analysis_export = ['HPI_clean','MAP_clean','deltaMAP','lepMAP','5min_prediction', '10min_prediction', '15min_prediction']\n",
    "    \n",
    "    for x in backward_analysis_export: \n",
    "        result_vector[x] = data[x].to_list()\n",
    "    \n",
    "    result_vector['Patient ID'] = [identifier] * len(data['HPI_clean'])\n"
   ]
  },
  {
   "cell_type": "markdown",
   "metadata": {},
   "source": []
  },
  {
   "cell_type": "markdown",
   "metadata": {},
   "source": [
    "9. Forward analysis\n",
    "- Uncorrected forward analysis: check if HPI and MAP alarms are followed by hypotension within 1-5, 1-10 and 1-15 minutes\n",
    "- Corrected forward analysis: same, but exclude alarms followed by a sudden increase in MAP, presumably as a result of a anti-hypotensive treatment. Two criteria are used for sudden increases: >= +5mmHg in 20 seconds or >= +8 mmHg in 2 minutes, both these criteria are positive if MAP < 70.\n",
    "- Outputs true positive and false positive alarms"
   ]
  },
  {
   "cell_type": "code",
   "execution_count": 17,
   "metadata": {},
   "outputs": [],
   "source": [
    "episodes_hpi = data.groupby(hpi_alarms)\n",
    "episodes_map = data.groupby(map_alarms)\n",
    "\n",
    "for minutes in [5, 10, 15]:\n",
    "    window_size = minutes * 3 \n",
    "    # Uncorrected forward analysis for HPI\n",
    "    tp, fp = 0, 0\n",
    "    for episode_number, group in episodes_hpi:\n",
    "        # If the data starts immediately with an alarm, the name of the episode_number is always > 0\n",
    "        if episode_number == 0:\n",
    "            pass\n",
    "        else:\n",
    "            # Prediction window between 1 minute and window_size\n",
    "            prediction_window = group[3:window_size + 1]\n",
    "            # Check if there is hypotension occuring\n",
    "            hypotension_in_window = prediction_window['IOH'].sum()\n",
    "            if hypotension_in_window: tp += 1\n",
    "            else: fp += 1\n",
    "    result[f'win{minutes}_HPI_alarm_uncorrected_tp'] = tp\n",
    "    result[f'win{minutes}_HPI_alarm_uncorrected_fp'] = fp\n",
    "\n",
    "    # Uncorrected forward analysis for MAP\n",
    "    tp, fp = 0, 0\n",
    "    for episode_number, group in episodes_map:\n",
    "        # If the data starts immediately with an alarm, the name of the episode_number is always > 0\n",
    "        if episode_number == 0:\n",
    "            pass\n",
    "        else:\n",
    "            # Prediction window between 1 minute and window_size\n",
    "            prediction_window = group[3:window_size + 1]\n",
    "            # Check if there is hypotension occuring\n",
    "            hypotension_in_window = prediction_window['IOH'].sum()\n",
    "            if hypotension_in_window: tp += 1\n",
    "            else: fp += 1\n",
    "    result[f'win{minutes}_MAP_alarm_uncorrected_tp'] = tp\n",
    "    result[f'win{minutes}_MAP_alarm_uncorrected_fp'] = fp\n",
    "\n",
    "    # Corrected forward analysis for HPI\n",
    "    # Define functions for two criteria of sudden MAP increases: \n",
    "    # - The MAP increased 5 mmHg or more in 20 seconds (1 row in the DataFrame) if MAP < 70\n",
    "    def condition_5in1(x):\n",
    "        return(x[0] < 70) and ((x[1] - x[0]) >= 5)\n",
    "    data['condition_5in1'] = data.MAP_clean.rolling(2).apply(condition_5in1, raw=True)\n",
    "    # - The MAP increased 8 mmHg or more in two minutes (6 rows in the DataFrame) if MAP < 70\n",
    "    def condition_8in6(x):\n",
    "        return(x[0] < 70) and (max(x) - min(x) >= 8) and (x.argmin() < x.argmax())\n",
    "    data['condition_8in6'] = data.MAP_clean.rolling(6).apply(condition_8in6, raw=True)\n",
    "\n",
    "    tp, fp = 0, 0\n",
    "    for episode_number, group in episodes_hpi:\n",
    "        # If the data starts immediately with an alarm, the name of the episode_number is always > 0\n",
    "        if episode_number == 0:\n",
    "            pass\n",
    "        else:\n",
    "            # Prediction window between 1 minute and minutes\n",
    "            prediction_window = group[3:window_size + 1]\n",
    "            hypotension_in_window = prediction_window['IOH'].sum()\n",
    "            if hypotension_in_window: tp += 1\n",
    "            else:\n",
    "                if prediction_window['condition_5in1'].sum() == 0 and prediction_window['condition_8in6'].sum() == 0: # There is no correction\n",
    "                    fp += 1\n",
    "                else: # There was a correction so we ignore this episode\n",
    "                    pass\n",
    "\n",
    "    result[f'win{minutes}_HPI_alarm_corrected_tp'] = tp\n",
    "    result[f'win{minutes}_HPI_alarm_corrected_fp'] = fp\n",
    "\n",
    "    # Corrected forward analysis for MAP\n",
    "    tp, fp = 0, 0\n",
    "    for episode_number, group in episodes_map:\n",
    "        # If the data starts immediately with an alarm, the name of the episode_number is always > 0\n",
    "        if episode_number == 0:\n",
    "            pass\n",
    "        else:\n",
    "            # Prediction window between 1 minute and minutes\n",
    "            prediction_window = group[3:window_size + 1]\n",
    "            hypotension_in_window = prediction_window['IOH'].sum()\n",
    "            if hypotension_in_window: tp += 1\n",
    "            else:\n",
    "                if prediction_window['condition_5in1'].sum() == 0 and prediction_window['condition_8in6'].sum() == 0: # There is no correction\n",
    "                    fp += 1\n",
    "                else: # There was a correction so we ignore this episode\n",
    "                    pass\n",
    "\n",
    "    result[f'win{minutes}_MAP_alarm_corrected_tp'] = tp\n",
    "    result[f'win{minutes}_MAP_alarm_corrected_fp'] = fp"
   ]
  },
  {
   "cell_type": "markdown",
   "metadata": {},
   "source": [
    "10. Print/save results"
   ]
  },
  {
   "cell_type": "code",
   "execution_count": 24,
   "metadata": {},
   "outputs": [],
   "source": [
    "result_df = pd.DataFrame([result])\n",
    "result_vector_df = pd.concat([pd.DataFrame(x) for x in [result_vector]], ignore_index=True)\n",
    "result_df.to_excel('result.xlsx')"
   ]
  }
 ],
 "metadata": {
  "kernelspec": {
   "display_name": "Python 3",
   "language": "python",
   "name": "python3"
  },
  "language_info": {
   "codemirror_mode": {
    "name": "ipython",
    "version": 3
   },
   "file_extension": ".py",
   "mimetype": "text/x-python",
   "name": "python",
   "nbconvert_exporter": "python",
   "pygments_lexer": "ipython3",
   "version": "3.12.2"
  }
 },
 "nbformat": 4,
 "nbformat_minor": 2
}
